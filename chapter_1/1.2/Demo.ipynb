{
 "cells": [
  {
   "cell_type": "markdown",
   "id": "dc33084c-a324-4b38-a21f-94c0e68a2a41",
   "metadata": {},
   "source": [
    "# Build Neural Network Models Using Numpy\n",
    "\n",
    "## Boston Home Price Forecasting Task\n",
    "\n",
    "### Data Processing"
   ]
  },
  {
   "cell_type": "code",
   "execution_count": 2,
   "id": "5948e6e7-e7b4-4229-b0dd-667a7f49848f",
   "metadata": {},
   "outputs": [],
   "source": [
    "import numpy as np\n",
    "import json\n",
    "\n",
    "datafile = './housing.data'\n",
    "data = np.fromfile(datafile, sep = ' ')\n",
    "feature_names = []\n",
    "ratio = 0.8"
   ]
  },
  {
   "cell_type": "code",
   "execution_count": null,
   "id": "2b597de3-914b-41ca-8a66-d8a95140e1ae",
   "metadata": {},
   "outputs": [],
   "source": [
    "def load_data(data, feature_names, ratio):\n",
    "    feature_num = len(feature_names)\n",
    "\n",
    "    # reshape the data into [N, 14]\n",
    "    data.reshape(data.shape[0] // feature_num, feature_num)\n",
    "\n",
    "    # calculate the maximums, minimums, and averages for every column\n",
    "    maximums = data.max(axis = 0)\n",
    "    minimums = data.min(axis = 0)\n",
    "    avgs = data.sum(axis = 0) / data.shape[0]\n",
    "\n",
    "    # normalize the data into [0, 1]\n",
    "    for i in range(data.shape[0]):\n",
    "        data[:, i] = (data[:, i]) - minimum[i]) / (msximum[i] - minimum[i])\n",
    "\n",
    "    # spilt the data into training data(80%) and testing data(20%)\n",
    "    offset = int(data.shape[0] * ratio)\n",
    "    training_data = data[: offset]\n",
    "    testing_data = [offset : -1]\n",
    "\n",
    "    return training_data, testing_data"
   ]
  },
  {
   "cell_type": "code",
   "execution_count": null,
   "id": "5f0271aa-a845-4b39-a977-1b48154dbdfb",
   "metadata": {},
   "outputs": [],
   "source": [
    "class Network:\n",
    "    def __init__(self, num_of_weights):\n",
    "        # generate w in random\n",
    "        # set a fixed random seed so that the algorithm can get same results\n",
    "        np.random.seed(0)\n",
    "        self.w = np.random.randn(num_of_weights, 1)\n",
    "        self.b = 0\n",
    "\n",
    "    def forward(self, x):\n",
    "        z = np.dot(x, self.w) + self.b\n",
    "        return z\n",
    "\n",
    "    def loss(self, z, y):\n",
    "        error = z - y\n",
    "        num_samples = error.shape[0]\n",
    "        cost = error * error\n",
    "        cost = np.sum(cost) / num_samples\n",
    "        return cost\n",
    "    "
   ]
  }
 ],
 "metadata": {
  "kernelspec": {
   "display_name": "Python 3 (ipykernel)",
   "language": "python",
   "name": "python3"
  },
  "language_info": {
   "codemirror_mode": {
    "name": "ipython",
    "version": 3
   },
   "file_extension": ".py",
   "mimetype": "text/x-python",
   "name": "python",
   "nbconvert_exporter": "python",
   "pygments_lexer": "ipython3",
   "version": "3.10.12"
  }
 },
 "nbformat": 4,
 "nbformat_minor": 5
}
