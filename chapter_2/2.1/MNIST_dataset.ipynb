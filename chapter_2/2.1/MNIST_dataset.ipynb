{
 "cells": [
  {
   "cell_type": "markdown",
   "id": "87f44cfe-a64b-415b-8f68-f378ee08bec8",
   "metadata": {},
   "source": [
    "# Load Dataset through API"
   ]
  },
  {
   "cell_type": "code",
   "execution_count": 1,
   "id": "310539a4-eefd-4a54-a118-e0d3965f2d1c",
   "metadata": {},
   "outputs": [],
   "source": [
    "import paddle\n",
    "from paddle.nn import Linear\n",
    "import paddle.nn.functional as F\n",
    "import os\n",
    "import numpy as np\n",
    "import matplotlib.pyplot as plt"
   ]
  },
  {
   "cell_type": "code",
   "execution_count": 3,
   "id": "301280cb-d178-4569-8fe3-e7772db321d8",
   "metadata": {},
   "outputs": [
    {
     "name": "stderr",
     "output_type": "stream",
     "text": [
      "Cache file /home/manchester/.cache/paddle/dataset/mnist/train-images-idx3-ubyte.gz not found, downloading https://dataset.bj.bcebos.com/mnist/train-images-idx3-ubyte.gz \n",
      "Begin to download\n"
     ]
    },
    {
     "name": "stdout",
     "output_type": "stream",
     "text": [
      "item 2421/2421 [============================>.] - ETA: 0s - 1ms/item"
     ]
    },
    {
     "name": "stderr",
     "output_type": "stream",
     "text": [
      "\n",
      "Download finished\n",
      "Cache file /home/manchester/.cache/paddle/dataset/mnist/train-labels-idx1-ubyte.gz not found, downloading https://dataset.bj.bcebos.com/mnist/train-labels-idx1-ubyte.gz \n",
      "Begin to download\n"
     ]
    },
    {
     "name": "stdout",
     "output_type": "stream",
     "text": [
      "item 8/8 [============================>.] - ETA: 0s - 4ms/item"
     ]
    },
    {
     "name": "stderr",
     "output_type": "stream",
     "text": [
      "\n",
      "Download finished\n"
     ]
    }
   ],
   "source": [
    "# load MNIST training dataset through API\n",
    "train_dataset = paddle.vision.datasets.MNIST(mode = 'train')"
   ]
  },
  {
   "cell_type": "code",
   "execution_count": 5,
   "id": "f586a2a5-5e35-44c3-9029-2fb568f3435f",
   "metadata": {},
   "outputs": [
    {
     "data": {
      "text/plain": [
       "<Figure size 640x480 with 0 Axes>"
      ]
     },
     "metadata": {},
     "output_type": "display_data"
    },
    {
     "data": {
      "image/png": "[encoded data removed]",
      "text/plain": [
       "<Figure size 200x200 with 1 Axes>"
      ]
     },
     "metadata": {},
     "output_type": "display_data"
    },
    {
     "name": "stdout",
     "output_type": "stream",
     "text": [
      "The shape of the data is:  (28, 28)\n",
      "The shape and the data of the label is:  (1,) [5]\n"
     ]
    }
   ],
   "source": [
    "# display the first image\n",
    "train_data = np.array(train_dataset[0][0])\n",
    "train_label = np.array(train_dataset[0][1])\n",
    "\n",
    "plt.figure(\"Image\")\n",
    "plt.figure(figsize = (2,2))\n",
    "plt.imshow(train_data, cmap = plt.cm.binary)\n",
    "plt.axis('on')\n",
    "plt.title('image')\n",
    "plt.show()\n",
    "\n",
    "print('The shape of the data is: ', train_data.shape)\n",
    "print('The shape and the data of the label is: ', train_label.shape, train_label)"
   ]
  },
  {
   "cell_type": "code",
   "execution_count": null,
   "id": "4fb4ed99-8711-4aea-880b-21bf074b4adf",
   "metadata": {},
   "outputs": [],
   "source": []
  },
  {
   "cell_type": "code",
   "execution_count": null,
   "id": "4f0704d9-575c-45c9-a375-b84db8192dff",
   "metadata": {},
   "outputs": [],
   "source": []
  }
 ],
 "metadata": {
  "kernelspec": {
   "display_name": "Python 3 (ipykernel)",
   "language": "python",
   "name": "python3"
  },
  "language_info": {
   "codemirror_mode": {
    "name": "ipython",
    "version": 3
   },
   "file_extension": ".py",
   "mimetype": "text/x-python",
   "name": "python",
   "nbconvert_exporter": "python",
   "pygments_lexer": "ipython3",
   "version": "3.10.12"
  }
 },
 "nbformat": 4,
 "nbformat_minor": 5
}
