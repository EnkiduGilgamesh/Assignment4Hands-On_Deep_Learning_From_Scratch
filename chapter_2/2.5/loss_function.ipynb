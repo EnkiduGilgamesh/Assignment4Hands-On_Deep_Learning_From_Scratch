{
 "cells": [
  {
   "cell_type": "markdown",
   "id": "19ff1fab-93ad-43f5-be49-2142eea4b9ca",
   "metadata": {},
   "source": [
    "# Discussion\n",
    "\n",
    "The Boston house price prediction task in the first chapter is a regression task whose result is a continuous value, so we can use mean squared error as a loss function. However, the result of the classification task is discrete labeling, so it is unreasonable to use mean squared error as a loss function.\n",
    "\n",
    "## Softmax Function\n",
    "\n",
    "$$\n",
    "Softmax(x_i) = \\frac{e^{x_i}}{\\sum_{j=0}^{N}{e^{x_j}}}\n",
    "$$\n",
    "\n",
    "As can be seen from the formula, the range of each output is between 0~1, and the sum of all outputs is equal to 1."
   ]
  },
  {
   "cell_type": "code",
   "execution_count": null,
   "id": "34a19d59-68d6-4363-9fb8-63847dc4c2f2",
   "metadata": {},
   "outputs": [],
   "source": []
  }
 ],
 "metadata": {
  "kernelspec": {
   "display_name": "Python 3 (ipykernel)",
   "language": "python",
   "name": "python3"
  },
  "language_info": {
   "codemirror_mode": {
    "name": "ipython",
    "version": 3
   },
   "file_extension": ".py",
   "mimetype": "text/x-python",
   "name": "python",
   "nbconvert_exporter": "python",
   "pygments_lexer": "ipython3",
   "version": "3.10.12"
  }
 },
 "nbformat": 4,
 "nbformat_minor": 5
}
